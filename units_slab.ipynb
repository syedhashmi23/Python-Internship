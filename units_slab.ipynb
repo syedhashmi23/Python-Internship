{
 "cells": [
  {
   "cell_type": "code",
   "execution_count": 12,
   "metadata": {},
   "outputs": [
    {
     "name": "stdout",
     "output_type": "stream",
     "text": [
      "\n",
      "Student ID: 23Y270018\n",
      "1. Press 1 to Display the bill of slab 1\n",
      "2. Press 2 to Display the bill of slab 2\n",
      "2. Press 3 to Display the bill of slab 3\n",
      "Any other key to exit\n",
      "Total cost for Slab 1: Rs. 2530\n",
      "\n",
      "Student ID: 23Y270018\n",
      "1. Press 1 to Display the bill of slab 1\n",
      "2. Press 2 to Display the bill of slab 2\n",
      "2. Press 3 to Display the bill of slab 3\n",
      "Any other key to exit\n",
      "..THANKS FOR USING THIS PROGRAM..\n",
      "Exiting the program.\n"
     ]
    }
   ],
   "source": [
    "\n",
    "student_id = \"23Y270018\"\n",
    "\n",
    "\n",
    "electricity_data = [\n",
    "    [50, 150, 250],  \n",
    "    [120, 180, 280],  \n",
    "    [220, 280, 350],  \n",
    "]\n",
    "\n",
    "\n",
    "def costSlab1():\n",
    "    unit_range = (0, 100)\n",
    "    cost_per_unit = 10\n",
    "    units_consumed = electricity_data[0]\n",
    "    total_cost = sum([(min(unit_range[1], units) - unit_range[0] + 1) * cost_per_unit for units in units_consumed])\n",
    "    \n",
    "    print(f\"Total cost for Slab 1: Rs. {total_cost}\")\n",
    "\n",
    "\n",
    "def costSlab2():\n",
    "    unit_range = (101, 200)\n",
    "    cost_per_unit = 15\n",
    "    units_consumed = electricity_data[1]\n",
    "    total_cost = sum([(min(unit_range[1], units) - unit_range[0] + 1) * cost_per_unit for units in units_consumed])\n",
    "    \n",
    "    print(f\"Total cost for Slab 2: Rs. {total_cost}\")\n",
    "\n",
    "\n",
    "def costSlab3():\n",
    "    unit_range = (201, 300)\n",
    "    cost_per_unit = 20\n",
    "    units_consumed = electricity_data[2]\n",
    "    total_cost = sum([(min(unit_range[1], units) - unit_range[0] + 1) * cost_per_unit for units in units_consumed])\n",
    "    \n",
    "    print(f\"Total cost for Slab 3: Rs. {total_cost}\")\n",
    "\n",
    "\n",
    "while True:\n",
    "    print(f\"\\nStudent ID: {student_id}\")\n",
    "    print(\"1. Press 1 to Display the bill of slab 1\")\n",
    "    print(\"2. Press 2 to Display the bill of slab 2\")\n",
    "    print(\"2. Press 3 to Display the bill of slab 3\")\n",
    "    print(\"Any other key to exit\")\n",
    "\n",
    "    choice = input(\"Enter your choice: \")\n",
    "\n",
    "    if choice == '1':\n",
    "        costSlab1()\n",
    "    elif choice == '2':\n",
    "        costSlab2()\n",
    "    elif choice == '3':\n",
    "        costSlab3()\n",
    "    else:\n",
    "        print(\"..THANKS FOR USING THIS PROGRAM..\")\n",
    "        print(\"Exiting the program.\")\n",
    "        break\n"
   ]
  }
 ],
 "metadata": {
  "kernelspec": {
   "display_name": "Python 3",
   "language": "python",
   "name": "python3"
  },
  "language_info": {
   "codemirror_mode": {
    "name": "ipython",
    "version": 3
   },
   "file_extension": ".py",
   "mimetype": "text/x-python",
   "name": "python",
   "nbconvert_exporter": "python",
   "pygments_lexer": "ipython3",
   "version": "3.11.4"
  }
 },
 "nbformat": 4,
 "nbformat_minor": 2
}
