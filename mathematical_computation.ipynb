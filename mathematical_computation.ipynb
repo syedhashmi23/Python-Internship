{
 "cells": [
  {
   "cell_type": "code",
   "execution_count": 2,
   "metadata": {},
   "outputs": [
    {
     "name": "stdout",
     "output_type": "stream",
     "text": [
      "\n",
      "Menu:\n",
      "1. Hexagon\n",
      "2. Square\n",
      "3. Exit\n",
      "Hexagon - Area: 64.95, Perimeter: 30, Sum of Angles: 720\n",
      "\n",
      "Menu:\n",
      "1. Hexagon\n",
      "2. Square\n",
      "3. Exit\n",
      "Square - Area: 36.00, Perimeter: 24\n",
      "\n",
      "Menu:\n",
      "1. Hexagon\n",
      "2. Square\n",
      "3. Exit\n",
      "Square - Area: 36.00, Perimeter: 24\n",
      "\n",
      "Menu:\n",
      "1. Hexagon\n",
      "2. Square\n",
      "3. Exit\n",
      "Exiting the program.\n"
     ]
    }
   ],
   "source": [
    "import math\n",
    "\n",
    "def calc_hex_area(side_length):\n",
    "    return 1.5 * 1.732 * side_length * side_length\n",
    "\n",
    "def calc_hex_perimeter(side_length):\n",
    "    return 6 * side_length\n",
    "\n",
    "def calc_hex_angle_sum():\n",
    "    return 6 * 120\n",
    "\n",
    "def display_hex_info(side_length):\n",
    "    print(f\"Hexagon - Area: {calc_hex_area(side_length):.2f}, Perimeter: {calc_hex_perimeter(side_length)}, Sum of Angles: {calc_hex_angle_sum()}\")\n",
    "\n",
    "def calc_square_area(side_length):\n",
    "    return side_length * side_length\n",
    "\n",
    "def calc_square_perimeter(side_length):\n",
    "    return 4 * side_length\n",
    "\n",
    "def display_square_info(side_length):\n",
    "    print(f\"Square - Area: {calc_square_area(side_length):.2f}, Perimeter: {calc_square_perimeter(side_length)}\")\n",
    "\n",
    "def main():\n",
    "    # Extracting the last digit of CNIC for side lengths\n",
    "    cnic_last_digit = int(input(\"Enter the last digit of your CNIC: \"))\n",
    "    \n",
    "    hexagon_side_length = cnic_last_digit\n",
    "    square_side_length = cnic_last_digit + 1\n",
    "\n",
    "    while True:\n",
    "        print(\"\\nMenu:\")\n",
    "        print(\"1. Hexagon\")\n",
    "        print(\"2. Square\")\n",
    "        print(\"3. Exit\")\n",
    "\n",
    "        choice = input(\"Enter your choice (1/2/3): \")\n",
    "\n",
    "        if choice == '1':\n",
    "            display_hex_info(hexagon_side_length)\n",
    "        elif choice == '2':\n",
    "            display_square_info(square_side_length)\n",
    "        elif choice == '3':\n",
    "            print(\"Exiting the program.\")\n",
    "            break\n",
    "        else:\n",
    "            print(\"Invalid choice. Exiting the program.\")\n",
    "            break\n",
    "\n",
    "if __name__ == \"__main__\":\n",
    "    main()\n"
   ]
  },
  {
   "cell_type": "code",
   "execution_count": null,
   "metadata": {},
   "outputs": [],
   "source": []
  }
 ],
 "metadata": {
  "kernelspec": {
   "display_name": "Python 3",
   "language": "python",
   "name": "python3"
  },
  "language_info": {
   "codemirror_mode": {
    "name": "ipython",
    "version": 3
   },
   "file_extension": ".py",
   "mimetype": "text/x-python",
   "name": "python",
   "nbconvert_exporter": "python",
   "pygments_lexer": "ipython3",
   "version": "3.11.4"
  }
 },
 "nbformat": 4,
 "nbformat_minor": 2
}
