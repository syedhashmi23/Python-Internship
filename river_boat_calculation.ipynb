{
 "cells": [
  {
   "cell_type": "code",
   "execution_count": 4,
   "metadata": {},
   "outputs": [
    {
     "name": "stdout",
     "output_type": "stream",
     "text": [
      "Payment for Boat 1: $20.00, Return by: 11.00:00\n",
      "Payment for Boat 2: $20.00, Return by: 12.00:00\n",
      "Payment for Boat 3: $20.00, Return by: 13.00:00\n",
      "Invalid duration. Please enter 0.5 or 1.\n",
      "Payment for Boat 5: $6.00, Return by: 14.50:00\n",
      "Boat cannot be hired at this time.\n",
      "Payment for Boat 7: $20.00, Return by: 17.00:00\n",
      "Boat cannot be hired at this time.\n",
      "Boat cannot be hired at this time.\n",
      "Payment for Boat 10: $20.00, Return by: 17.00:00\n",
      "\n",
      "Daily Totals:\n",
      "Total money taken: $106.00\n",
      "Total hours hired: 5.50 hours\n",
      "Available boats: [1, 2, 3, 4]\n",
      "\n",
      "End-of-Day Report:\n",
      "Total money taken for all boats: $2300.00\n",
      "Total hours hired for all boats: 2300.00 hours\n"
     ]
    },
    {
     "ename": "AttributeError",
     "evalue": "'float' object has no attribute 'index'",
     "output_type": "error",
     "traceback": [
      "\u001b[1;31m---------------------------------------------------------------------------\u001b[0m",
      "\u001b[1;31mAttributeError\u001b[0m                            Traceback (most recent call last)",
      "Cell \u001b[1;32mIn[4], line 63\u001b[0m\n\u001b[0;32m     61\u001b[0m calculate_daily_profit_for_one_boat()\n\u001b[0;32m     62\u001b[0m find_next_available_boat()\n\u001b[1;32m---> 63\u001b[0m \u001b[43mcalculate_total_daily_profit\u001b[49m\u001b[43m(\u001b[49m\u001b[43m)\u001b[49m\n",
      "Cell \u001b[1;32mIn[4], line 56\u001b[0m, in \u001b[0;36mcalculate_total_daily_profit\u001b[1;34m()\u001b[0m\n\u001b[0;32m     52\u001b[0m \u001b[38;5;28mprint\u001b[39m(\u001b[38;5;124mf\u001b[39m\u001b[38;5;124m\"\u001b[39m\u001b[38;5;124mTotal hours hired for all boats: \u001b[39m\u001b[38;5;132;01m{\u001b[39;00mtotal_hours_hired\u001b[38;5;132;01m:\u001b[39;00m\u001b[38;5;124m.2f\u001b[39m\u001b[38;5;132;01m}\u001b[39;00m\u001b[38;5;124m hours\u001b[39m\u001b[38;5;124m\"\u001b[39m)\n\u001b[0;32m     54\u001b[0m \u001b[38;5;28;01mif\u001b[39;00m unused_boats: \u001b[38;5;28mprint\u001b[39m(\u001b[38;5;124mf\u001b[39m\u001b[38;5;124m\"\u001b[39m\u001b[38;5;124mUnused boats: \u001b[39m\u001b[38;5;132;01m{\u001b[39;00munused_boats\u001b[38;5;132;01m}\u001b[39;00m\u001b[38;5;124m\"\u001b[39m)\n\u001b[1;32m---> 56\u001b[0m most_used_boat \u001b[38;5;241m=\u001b[39m \u001b[43mtotal_hours_hired\u001b[49m\u001b[38;5;241;43m.\u001b[39;49m\u001b[43mindex\u001b[49m(\u001b[38;5;28mmax\u001b[39m(total_hours_hired)) \u001b[38;5;241m+\u001b[39m \u001b[38;5;241m1\u001b[39m\n\u001b[0;32m     57\u001b[0m \u001b[38;5;28mprint\u001b[39m(\u001b[38;5;124mf\u001b[39m\u001b[38;5;124m\"\u001b[39m\u001b[38;5;124mBoat \u001b[39m\u001b[38;5;132;01m{\u001b[39;00mmost_used_boat\u001b[38;5;132;01m}\u001b[39;00m\u001b[38;5;124m was used the most.\u001b[39m\u001b[38;5;124m\"\u001b[39m)\n",
      "\u001b[1;31mAttributeError\u001b[0m: 'float' object has no attribute 'index'"
     ]
    }
   ],
   "source": [
    "BOAT_COUNT = 10\n",
    "HOURLY_RATE, HALF_HOUR_RATE = 20, 12\n",
    "OPENING_TIME, CLOSING_TIME = 10, 17\n",
    "\n",
    "def calculate_daily_profit_for_one_boat():\n",
    "    money_taken, total_hours_hired = 0, 0\n",
    "\n",
    "    for boat_number in range(1, BOAT_COUNT + 1):\n",
    "        start_hour = float(input(f\"Enter start hour for Boat {boat_number} (10 to 17): \"))\n",
    "        if not (OPENING_TIME <= start_hour < CLOSING_TIME): \n",
    "            print(\"Boat cannot be hired at this time.\") \n",
    "            continue\n",
    "\n",
    "        duration = float(input(\"Enter duration in hours (0.5 or 1): \"))\n",
    "        if duration not in [0.5, 1]: \n",
    "            print(\"Invalid duration. Please enter 0.5 or 1.\") \n",
    "            continue\n",
    "\n",
    "        payment = duration * (HOURLY_RATE if duration == 1 else HALF_HOUR_RATE)\n",
    "        money_taken, total_hours_hired = money_taken + payment, total_hours_hired + duration\n",
    "\n",
    "        print(f\"Payment for Boat {boat_number}: ${payment:.2f}, Return by: {start_hour + duration:.2f}:00\")\n",
    "\n",
    "    print(\"\\nDaily Totals:\")\n",
    "    print(f\"Total money taken: ${money_taken:.2f}\")\n",
    "    print(f\"Total hours hired: {total_hours_hired:.2f} hours\")\n",
    "\n",
    "\n",
    "def find_next_available_boat():\n",
    "    current_time = float(input(\"Enter the current time: \"))\n",
    "    available_boats = [i for i in range(1, BOAT_COUNT + 1) if float(input(f\"Enter return time for Boat {i}: \")) <= current_time]\n",
    "\n",
    "    if available_boats: \n",
    "        print(f\"Available boats: {available_boats}\")\n",
    "    else: \n",
    "        next_available_time = min(float(input(f\"Next available time for Boat {i}: \")) for i in range(1, BOAT_COUNT + 1))\n",
    "        print(f\"No boats available. Next available time: {next_available_time:.2f}\")\n",
    "\n",
    "\n",
    "\n",
    "def calculate_total_daily_profit():\n",
    "    total_money_taken, total_hours_hired, unused_boats = 0, 0, []\n",
    "\n",
    "    for boat_number in range(1, BOAT_COUNT + 1):\n",
    "        total_money, total_hours = float(input(f\"Enter total money taken for Boat {boat_number}: \")), float(input(f\"Enter total hours hired for Boat {boat_number}: \"))\n",
    "        total_money_taken, total_hours_hired = total_money_taken + total_money, total_hours_hired + total_hours\n",
    "\n",
    "        if total_hours == 0: unused_boats.append(boat_number)\n",
    "\n",
    "    print(\"\\nEnd-of-Day Report:\")\n",
    "    print(f\"Total money taken for all boats: ${total_money_taken:.2f}\")\n",
    "    print(f\"Total hours hired for all boats: {total_hours_hired:.2f} hours\")\n",
    "\n",
    "    if unused_boats: print(f\"Unused boats: {unused_boats}\")\n",
    "    \n",
    "    most_used_boat = total_hours_hired.index(max(total_hours_hired)) + 1\n",
    "    print(f\"Boat {most_used_boat} was used the most.\")\n",
    "\n",
    "\n",
    "\n",
    "calculate_daily_profit_for_one_boat()\n",
    "find_next_available_boat()\n",
    "calculate_total_daily_profit()\n"
   ]
  },
  {
   "cell_type": "code",
   "execution_count": null,
   "metadata": {},
   "outputs": [],
   "source": []
  }
 ],
 "metadata": {
  "kernelspec": {
   "display_name": "Python 3",
   "language": "python",
   "name": "python3"
  },
  "language_info": {
   "codemirror_mode": {
    "name": "ipython",
    "version": 3
   },
   "file_extension": ".py",
   "mimetype": "text/x-python",
   "name": "python",
   "nbconvert_exporter": "python",
   "pygments_lexer": "ipython3",
   "version": "3.11.4"
  }
 },
 "nbformat": 4,
 "nbformat_minor": 2
}
