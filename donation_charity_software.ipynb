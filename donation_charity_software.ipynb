{
 "cells": [
  {
   "cell_type": "code",
   "execution_count": 3,
   "metadata": {},
   "outputs": [
    {
     "name": "stdout",
     "output_type": "stream",
     "text": [
      "1. uraan\n",
      "2. child care\n",
      "3. sukoon\n",
      "Donation of 234535.00 recorded for child care.\n",
      "Donation of Rs 23575.54/- recorded for uraan.\n",
      "Invalid choice. Please choose 1, 2, or 3.\n",
      "Donation of Rs 456732.00/- recorded for sukoon.\n",
      "\n",
      "Charity Totals:\n",
      "sukoon: 456732.00\n",
      "child care: 234535.00\n",
      "uraan: 23575.54\n",
      "\n",
      "GRAND TOTAL DONATED TO CHARITY: Rs 714842.54\n"
     ]
    }
   ],
   "source": [
    "# Task 1 - Set up the donation system\n",
    "charities = []\n",
    "charity_totals = [0, 0, 0]\n",
    "\n",
    "for i in range(3):\n",
    "    charity_name = input(f\"Enter the name of Charity {i + 1}: \")\n",
    "    charities.append(charity_name)\n",
    "\n",
    "\n",
    "for i, charity in enumerate(charities, start=1):\n",
    "    print(f\"{i}. {charity}\")\n",
    "\n",
    "\n",
    "charity_choice = int(input(\"Enter the number (1, 2, or 3) for the chosen charity: \"))\n",
    "if charity_choice not in [1, 2, 3]:\n",
    "    print(\"Invalid choice. Please choose 1, 2, or 3.\")\n",
    "    exit()\n",
    "\n",
    "shopping_bill = float(input(\"Enter the customer's shopping bill: \"))\n",
    "\n",
    "\n",
    "donation = shopping_bill * 0.01\n",
    "charity_totals[charity_choice - 1] += donation\n",
    "print(f\"Donation of {donation:.2f} recorded for {charities[charity_choice - 1]}.\")\n",
    "\n",
    "# Task 2 - Record and total each donation\n",
    "while True:\n",
    "    charity_choice = int(input(\"Enter the number (1, 2, or 3) for the chosen charity or press (0 to exit): \"))\n",
    "    \n",
    "    if charity_choice == 0:\n",
    "        break\n",
    "    \n",
    "    if charity_choice not in [1, 2, 3]:\n",
    "        print(\"Invalid choice. Please choose 1, 2, or 3.\")\n",
    "        continue\n",
    "\n",
    "    shopping_bill = float(input(\"Enter the customer's shopping bill: \"))\n",
    "    donation = shopping_bill * 0.01\n",
    "    charity_totals[charity_choice - 1] += donation\n",
    "    print(f\"Donation of Rs {donation:.2f}/- recorded for {charities[charity_choice - 1]}.\")\n",
    "\n",
    "# Task 3 - Show the totals so far\n",
    "print(\"\\nCharity Totals:\")\n",
    "sorted_charity_totals = sorted(zip(charities, charity_totals), key=lambda x: x[1], reverse=True)\n",
    "\n",
    "for charity, total in sorted_charity_totals:\n",
    "    print(f\"{charity}: {total:.2f}\")\n",
    "\n",
    "grand_total = sum(charity_totals)\n",
    "print(f\"\\nGRAND TOTAL DONATED TO CHARITY: Rs {grand_total:.2f}\")\n"
   ]
  }
 ],
 "metadata": {
  "kernelspec": {
   "display_name": "Python 3",
   "language": "python",
   "name": "python3"
  },
  "language_info": {
   "codemirror_mode": {
    "name": "ipython",
    "version": 3
   },
   "file_extension": ".py",
   "mimetype": "text/x-python",
   "name": "python",
   "nbconvert_exporter": "python",
   "pygments_lexer": "ipython3",
   "version": "3.11.4"
  }
 },
 "nbformat": 4,
 "nbformat_minor": 2
}
